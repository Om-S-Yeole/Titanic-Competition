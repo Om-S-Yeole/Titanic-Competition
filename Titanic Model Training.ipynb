{
 "cells": [
  {
   "cell_type": "markdown",
   "id": "121e1549-2850-4086-81be-9bed39e3b28f",
   "metadata": {
    "jp-MarkdownHeadingCollapsed": true
   },
   "source": [
    "# 1. Looking at a Big Picture"
   ]
  },
  {
   "cell_type": "markdown",
   "id": "9e1b4e17-e7c9-490b-ba67-54c935eda75e",
   "metadata": {},
   "source": [
    "What is Our Problem\n",
    "Our problem is to predict whether the passenger with given set of characteristics will survive the crisis or not. We have to give answer the problem in Yes or No.\n",
    "\n",
    "Select the Performance Measure\n",
    "Our performance measure will be 'Accuracy'.\n",
    "Accuracy = No. of correct predictions * 100/ Total number of predictions\n",
    "\n",
    "Check the Assumptions\n",
    "I) We are assuming that passenger will either survive or will die in the crisis. That is, the output will be binary only."
   ]
  },
  {
   "cell_type": "markdown",
   "id": "eff66d96-24f2-4d1e-bcde-e57c2d25f9c5",
   "metadata": {},
   "source": [
    "# 2. Get the Data"
   ]
  },
  {
   "cell_type": "markdown",
   "id": "b37ffadc-07db-4641-b983-78ae0da8e5b8",
   "metadata": {
    "jp-MarkdownHeadingCollapsed": true
   },
   "source": [
    "## 2.1 Import the Modules"
   ]
  },
  {
   "cell_type": "code",
   "execution_count": 1,
   "id": "777ed4c6-d14d-4cde-af78-a1b09e46d951",
   "metadata": {},
   "outputs": [],
   "source": [
    "import numpy as np\n",
    "import pandas as pd\n",
    "import matplotlib.pyplot as plt\n",
    "import seaborn as sns\n",
    "sns.set()"
   ]
  },
  {
   "cell_type": "markdown",
   "id": "d00dbaca-a59b-4b34-8b0f-c331b310bd49",
   "metadata": {
    "jp-MarkdownHeadingCollapsed": true
   },
   "source": [
    "## 2.2 Getting the training data"
   ]
  },
  {
   "cell_type": "code",
   "execution_count": 2,
   "id": "dfb72973-3d7c-4bdf-9edd-54fa6316c1ed",
   "metadata": {},
   "outputs": [],
   "source": [
    "data = pd.read_csv('train.csv')"
   ]
  },
  {
   "cell_type": "markdown",
   "id": "a1f07093-1099-4420-9e6a-769d5e9abd1b",
   "metadata": {},
   "source": [
    "# 3. Explore the Data"
   ]
  },
  {
   "cell_type": "code",
   "execution_count": null,
   "id": "f5ce448f-4c3a-4b77-889d-d0ef0a01c7dd",
   "metadata": {},
   "outputs": [],
   "source": []
  }
 ],
 "metadata": {
  "kernelspec": {
   "display_name": "Python 3 (ipykernel)",
   "language": "python",
   "name": "python3"
  },
  "language_info": {
   "codemirror_mode": {
    "name": "ipython",
    "version": 3
   },
   "file_extension": ".py",
   "mimetype": "text/x-python",
   "name": "python",
   "nbconvert_exporter": "python",
   "pygments_lexer": "ipython3",
   "version": "3.12.1"
  }
 },
 "nbformat": 4,
 "nbformat_minor": 5
}
