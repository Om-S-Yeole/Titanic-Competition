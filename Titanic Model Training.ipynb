{
 "cells": [
  {
   "cell_type": "markdown",
   "id": "121e1549-2850-4086-81be-9bed39e3b28f",
   "metadata": {},
   "source": [
    "# Looking at a Big Picture"
   ]
  },
  {
   "cell_type": "markdown",
   "id": "9e1b4e17-e7c9-490b-ba67-54c935eda75e",
   "metadata": {},
   "source": [
    "What is Our Problem\n",
    "Our problem is to predict whether the passenger with given set of characteristics will survive the crisis or not. We have to give answer the problem in Yes or No.\n",
    "\n",
    "Select the Performance Measure\n",
    "Our performance measure will be 'Accuracy'.\n",
    "Accuracy = No. of correct predictions * 100/ Total number of predictions\n",
    "\n",
    "Check the Assumptions\n",
    "I) We are assuming that passenger will either survive or will die in the crisis. That is, the output will be binary only."
   ]
  },
  {
   "cell_type": "code",
   "execution_count": null,
   "id": "eb88317f-bae5-4390-b5cc-7d63860679ef",
   "metadata": {},
   "outputs": [],
   "source": []
  }
 ],
 "metadata": {
  "kernelspec": {
   "display_name": "Python 3 (ipykernel)",
   "language": "python",
   "name": "python3"
  },
  "language_info": {
   "codemirror_mode": {
    "name": "ipython",
    "version": 3
   },
   "file_extension": ".py",
   "mimetype": "text/x-python",
   "name": "python",
   "nbconvert_exporter": "python",
   "pygments_lexer": "ipython3",
   "version": "3.12.1"
  }
 },
 "nbformat": 4,
 "nbformat_minor": 5
}
